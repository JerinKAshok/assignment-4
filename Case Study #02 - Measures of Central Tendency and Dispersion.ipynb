{
 "cells": [
  {
   "cell_type": "markdown",
   "id": "c4eb19f8",
   "metadata": {},
   "source": [
    "# Case Study on Measures of Central Tendency and Dispersion\n",
    "An Institution wishes to find out their student’s ability in maths, reading and\n",
    "writing skills. The Institution wants to do an exploratory study to check the\n",
    "following information.\n",
    "1. Find out how many males and females participated in the test.\n",
    "2. What do you think about the students' parental level of education?\n",
    "3. Who scores the most on average for math, reading and writing based on\n",
    "\n",
    "● Gender\n",
    "\n",
    "● Test preparation course\n",
    "\n",
    "4. What do you think about the scoring variation for math, reading and writing\n",
    "based on\n",
    "\n",
    "● Gender\n",
    "\n",
    "● Test preparation course\n",
    "\n",
    "5. The management needs your help to give bonus points to the top 25% of\n",
    "students based on their maths score, so how will you help the management\n",
    "to achieve this."
   ]
  },
  {
   "cell_type": "code",
   "execution_count": 80,
   "id": "96bb707b",
   "metadata": {},
   "outputs": [],
   "source": [
    "import pandas as pd\n",
    "import numpy as np\n"
   ]
  },
  {
   "cell_type": "code",
   "execution_count": 61,
   "id": "df2e6cb4",
   "metadata": {},
   "outputs": [],
   "source": [
    "s=pd.read_csv(\"StudentsPerformance.csv\")"
   ]
  },
  {
   "cell_type": "code",
   "execution_count": 62,
   "id": "1e6f0434",
   "metadata": {},
   "outputs": [
    {
     "data": {
      "text/html": [
       "<div>\n",
       "<style scoped>\n",
       "    .dataframe tbody tr th:only-of-type {\n",
       "        vertical-align: middle;\n",
       "    }\n",
       "\n",
       "    .dataframe tbody tr th {\n",
       "        vertical-align: top;\n",
       "    }\n",
       "\n",
       "    .dataframe thead th {\n",
       "        text-align: right;\n",
       "    }\n",
       "</style>\n",
       "<table border=\"1\" class=\"dataframe\">\n",
       "  <thead>\n",
       "    <tr style=\"text-align: right;\">\n",
       "      <th></th>\n",
       "      <th>gender</th>\n",
       "      <th>race/ethnicity</th>\n",
       "      <th>parental level of education</th>\n",
       "      <th>lunch</th>\n",
       "      <th>test preparation course</th>\n",
       "      <th>math score</th>\n",
       "      <th>reading score</th>\n",
       "      <th>writing score</th>\n",
       "    </tr>\n",
       "  </thead>\n",
       "  <tbody>\n",
       "    <tr>\n",
       "      <th>0</th>\n",
       "      <td>female</td>\n",
       "      <td>group C</td>\n",
       "      <td>some high school</td>\n",
       "      <td>free/reduced</td>\n",
       "      <td>none</td>\n",
       "      <td>0</td>\n",
       "      <td>17</td>\n",
       "      <td>10</td>\n",
       "    </tr>\n",
       "    <tr>\n",
       "      <th>1</th>\n",
       "      <td>female</td>\n",
       "      <td>group B</td>\n",
       "      <td>high school</td>\n",
       "      <td>free/reduced</td>\n",
       "      <td>none</td>\n",
       "      <td>8</td>\n",
       "      <td>24</td>\n",
       "      <td>23</td>\n",
       "    </tr>\n",
       "    <tr>\n",
       "      <th>2</th>\n",
       "      <td>female</td>\n",
       "      <td>group B</td>\n",
       "      <td>some high school</td>\n",
       "      <td>free/reduced</td>\n",
       "      <td>none</td>\n",
       "      <td>18</td>\n",
       "      <td>32</td>\n",
       "      <td>28</td>\n",
       "    </tr>\n",
       "    <tr>\n",
       "      <th>3</th>\n",
       "      <td>female</td>\n",
       "      <td>group B</td>\n",
       "      <td>some college</td>\n",
       "      <td>standard</td>\n",
       "      <td>none</td>\n",
       "      <td>11</td>\n",
       "      <td>38</td>\n",
       "      <td>32</td>\n",
       "    </tr>\n",
       "    <tr>\n",
       "      <th>4</th>\n",
       "      <td>female</td>\n",
       "      <td>group C</td>\n",
       "      <td>some college</td>\n",
       "      <td>free/reduced</td>\n",
       "      <td>none</td>\n",
       "      <td>22</td>\n",
       "      <td>39</td>\n",
       "      <td>33</td>\n",
       "    </tr>\n",
       "    <tr>\n",
       "      <th>...</th>\n",
       "      <td>...</td>\n",
       "      <td>...</td>\n",
       "      <td>...</td>\n",
       "      <td>...</td>\n",
       "      <td>...</td>\n",
       "      <td>...</td>\n",
       "      <td>...</td>\n",
       "      <td>...</td>\n",
       "    </tr>\n",
       "    <tr>\n",
       "      <th>995</th>\n",
       "      <td>male</td>\n",
       "      <td>group E</td>\n",
       "      <td>some college</td>\n",
       "      <td>standard</td>\n",
       "      <td>completed</td>\n",
       "      <td>99</td>\n",
       "      <td>87</td>\n",
       "      <td>81</td>\n",
       "    </tr>\n",
       "    <tr>\n",
       "      <th>996</th>\n",
       "      <td>male</td>\n",
       "      <td>group A</td>\n",
       "      <td>some college</td>\n",
       "      <td>standard</td>\n",
       "      <td>completed</td>\n",
       "      <td>100</td>\n",
       "      <td>96</td>\n",
       "      <td>86</td>\n",
       "    </tr>\n",
       "    <tr>\n",
       "      <th>997</th>\n",
       "      <td>male</td>\n",
       "      <td>group D</td>\n",
       "      <td>some college</td>\n",
       "      <td>standard</td>\n",
       "      <td>completed</td>\n",
       "      <td>100</td>\n",
       "      <td>97</td>\n",
       "      <td>99</td>\n",
       "    </tr>\n",
       "    <tr>\n",
       "      <th>998</th>\n",
       "      <td>male</td>\n",
       "      <td>group E</td>\n",
       "      <td>associate's degree</td>\n",
       "      <td>free/reduced</td>\n",
       "      <td>completed</td>\n",
       "      <td>100</td>\n",
       "      <td>100</td>\n",
       "      <td>93</td>\n",
       "    </tr>\n",
       "    <tr>\n",
       "      <th>999</th>\n",
       "      <td>male</td>\n",
       "      <td>group E</td>\n",
       "      <td>bachelor's degree</td>\n",
       "      <td>standard</td>\n",
       "      <td>completed</td>\n",
       "      <td>100</td>\n",
       "      <td>100</td>\n",
       "      <td>100</td>\n",
       "    </tr>\n",
       "  </tbody>\n",
       "</table>\n",
       "<p>1000 rows × 8 columns</p>\n",
       "</div>"
      ],
      "text/plain": [
       "     gender race/ethnicity parental level of education         lunch  \\\n",
       "0    female        group C            some high school  free/reduced   \n",
       "1    female        group B                 high school  free/reduced   \n",
       "2    female        group B            some high school  free/reduced   \n",
       "3    female        group B                some college      standard   \n",
       "4    female        group C                some college  free/reduced   \n",
       "..      ...            ...                         ...           ...   \n",
       "995    male        group E                some college      standard   \n",
       "996    male        group A                some college      standard   \n",
       "997    male        group D                some college      standard   \n",
       "998    male        group E          associate's degree  free/reduced   \n",
       "999    male        group E           bachelor's degree      standard   \n",
       "\n",
       "    test preparation course  math score  reading score  writing score  \n",
       "0                      none           0             17             10  \n",
       "1                      none           8             24             23  \n",
       "2                      none          18             32             28  \n",
       "3                      none          11             38             32  \n",
       "4                      none          22             39             33  \n",
       "..                      ...         ...            ...            ...  \n",
       "995               completed          99             87             81  \n",
       "996               completed         100             96             86  \n",
       "997               completed         100             97             99  \n",
       "998               completed         100            100             93  \n",
       "999               completed         100            100            100  \n",
       "\n",
       "[1000 rows x 8 columns]"
      ]
     },
     "execution_count": 62,
     "metadata": {},
     "output_type": "execute_result"
    }
   ],
   "source": [
    "s"
   ]
  },
  {
   "cell_type": "code",
   "execution_count": 63,
   "id": "b938e31e",
   "metadata": {},
   "outputs": [
    {
     "data": {
      "text/plain": [
       "gender                         0\n",
       "race/ethnicity                 0\n",
       "parental level of education    0\n",
       "lunch                          0\n",
       "test preparation course        0\n",
       "math score                     0\n",
       "reading score                  0\n",
       "writing score                  0\n",
       "dtype: int64"
      ]
     },
     "execution_count": 63,
     "metadata": {},
     "output_type": "execute_result"
    }
   ],
   "source": [
    "s.isnull().sum()"
   ]
  },
  {
   "cell_type": "markdown",
   "id": "0a742fac",
   "metadata": {},
   "source": [
    "# 1. Find out how many males and females participated in the test."
   ]
  },
  {
   "cell_type": "code",
   "execution_count": 64,
   "id": "90f23f0d",
   "metadata": {},
   "outputs": [
    {
     "data": {
      "text/plain": [
       "female    518\n",
       "male      482\n",
       "Name: gender, dtype: int64"
      ]
     },
     "execution_count": 64,
     "metadata": {},
     "output_type": "execute_result"
    }
   ],
   "source": [
    "s[\"gender\"].value_counts()"
   ]
  },
  {
   "cell_type": "markdown",
   "id": "152e05df",
   "metadata": {},
   "source": [
    "# 2. What do you think about the students' parental level of education?"
   ]
  },
  {
   "cell_type": "code",
   "execution_count": 65,
   "id": "f9283f36",
   "metadata": {},
   "outputs": [
    {
     "data": {
      "text/plain": [
       "some college          226\n",
       "associate's degree    222\n",
       "high school           196\n",
       "some high school      179\n",
       "bachelor's degree     118\n",
       "master's degree        59\n",
       "Name: parental level of education, dtype: int64"
      ]
     },
     "execution_count": 65,
     "metadata": {},
     "output_type": "execute_result"
    }
   ],
   "source": [
    "s[\"parental level of education\"].value_counts()"
   ]
  },
  {
   "cell_type": "code",
   "execution_count": 66,
   "id": "fc3cc549",
   "metadata": {},
   "outputs": [
    {
     "data": {
      "text/plain": [
       "race/ethnicity  parental level of education\n",
       "group A         some high school               24\n",
       "                high school                    18\n",
       "                some college                   18\n",
       "                associate's degree             14\n",
       "                bachelor's degree              12\n",
       "                master's degree                 3\n",
       "group B         high school                    48\n",
       "                associate's degree             41\n",
       "                some high school               38\n",
       "                some college                   37\n",
       "                bachelor's degree              20\n",
       "                master's degree                 6\n",
       "group C         associate's degree             78\n",
       "                some college                   69\n",
       "                high school                    64\n",
       "                some high school               49\n",
       "                bachelor's degree              40\n",
       "                master's degree                19\n",
       "group D         some college                   67\n",
       "                associate's degree             50\n",
       "                some high school               50\n",
       "                high school                    44\n",
       "                bachelor's degree              28\n",
       "                master's degree                23\n",
       "group E         associate's degree             39\n",
       "                some college                   35\n",
       "                high school                    22\n",
       "                bachelor's degree              18\n",
       "                some high school               18\n",
       "                master's degree                 8\n",
       "Name: parental level of education, dtype: int64"
      ]
     },
     "execution_count": 66,
     "metadata": {},
     "output_type": "execute_result"
    }
   ],
   "source": [
    "s.groupby('race/ethnicity')['parental level of education'].value_counts()"
   ]
  },
  {
   "cell_type": "markdown",
   "id": "50bec3f4",
   "metadata": {},
   "source": [
    "# Insights\n",
    "*Most parents are in the category of 'Some college.\n",
    "\n",
    "*But with respect to ethincity its completely different.\n",
    "\n",
    "*when we consider both graduates and post graduates both together Group C have more educated persons but it also have more high school finished parents."
   ]
  },
  {
   "cell_type": "markdown",
   "id": "2ed2e2f5",
   "metadata": {},
   "source": [
    "# 3. Who scores the most on average for math, reading and writing based on\n",
    "\n",
    "#  a) Gender"
   ]
  },
  {
   "cell_type": "code",
   "execution_count": 7,
   "id": "237bc1ec",
   "metadata": {},
   "outputs": [
    {
     "data": {
      "text/plain": [
       "66.001"
      ]
     },
     "execution_count": 7,
     "metadata": {},
     "output_type": "execute_result"
    }
   ],
   "source": [
    "s[\"math score\"].mean()"
   ]
  },
  {
   "cell_type": "code",
   "execution_count": 8,
   "id": "99499116",
   "metadata": {},
   "outputs": [
    {
     "data": {
      "text/plain": [
       "gender\n",
       "female    63.376448\n",
       "male      68.821577\n",
       "Name: math score, dtype: float64"
      ]
     },
     "execution_count": 8,
     "metadata": {},
     "output_type": "execute_result"
    }
   ],
   "source": [
    "s.groupby('gender')['math score'].mean()"
   ]
  },
  {
   "cell_type": "code",
   "execution_count": 73,
   "id": "f4897529",
   "metadata": {},
   "outputs": [
    {
     "data": {
      "text/plain": [
       "69.195"
      ]
     },
     "execution_count": 73,
     "metadata": {},
     "output_type": "execute_result"
    }
   ],
   "source": [
    "s['reading score'].mean()"
   ]
  },
  {
   "cell_type": "code",
   "execution_count": 9,
   "id": "22bb0e39",
   "metadata": {},
   "outputs": [
    {
     "data": {
      "text/plain": [
       "gender\n",
       "female    72.590734\n",
       "male      65.545643\n",
       "Name: reading score, dtype: float64"
      ]
     },
     "execution_count": 9,
     "metadata": {},
     "output_type": "execute_result"
    }
   ],
   "source": [
    "s.groupby('gender')['reading score'].mean()"
   ]
  },
  {
   "cell_type": "code",
   "execution_count": 74,
   "id": "f0d03821",
   "metadata": {},
   "outputs": [
    {
     "data": {
      "text/plain": [
       "68.119"
      ]
     },
     "execution_count": 74,
     "metadata": {},
     "output_type": "execute_result"
    }
   ],
   "source": [
    "s['writing score'].mean()"
   ]
  },
  {
   "cell_type": "code",
   "execution_count": 10,
   "id": "2fb02984",
   "metadata": {
    "scrolled": true
   },
   "outputs": [
    {
     "data": {
      "text/plain": [
       "gender\n",
       "female    72.467181\n",
       "male      63.446058\n",
       "Name: writing score, dtype: float64"
      ]
     },
     "execution_count": 10,
     "metadata": {},
     "output_type": "execute_result"
    }
   ],
   "source": [
    "s.groupby('gender')['writing score'].mean()"
   ]
  },
  {
   "cell_type": "markdown",
   "id": "6283f600",
   "metadata": {},
   "source": [
    "# Insights\n",
    "*Avearge of females are dominated in writing score and reading score.\n",
    "\n",
    "*Males average maths score is more than females also total average maths score."
   ]
  },
  {
   "cell_type": "markdown",
   "id": "012be55e",
   "metadata": {},
   "source": [
    "# b)Test preparation course"
   ]
  },
  {
   "cell_type": "code",
   "execution_count": 11,
   "id": "64e51abc",
   "metadata": {},
   "outputs": [
    {
     "data": {
      "text/plain": [
       "test preparation course\n",
       "completed    74.684358\n",
       "none         64.457944\n",
       "Name: writing score, dtype: float64"
      ]
     },
     "execution_count": 11,
     "metadata": {},
     "output_type": "execute_result"
    }
   ],
   "source": [
    "s.groupby('test preparation course')['writing score'].mean()"
   ]
  },
  {
   "cell_type": "code",
   "execution_count": 12,
   "id": "7fc06b07",
   "metadata": {},
   "outputs": [
    {
     "data": {
      "text/plain": [
       "test preparation course\n",
       "completed    69.96648\n",
       "none         63.78972\n",
       "Name: math score, dtype: float64"
      ]
     },
     "execution_count": 12,
     "metadata": {},
     "output_type": "execute_result"
    }
   ],
   "source": [
    "s.groupby('test preparation course')['math score'].mean()"
   ]
  },
  {
   "cell_type": "code",
   "execution_count": 13,
   "id": "d1a70b66",
   "metadata": {},
   "outputs": [
    {
     "data": {
      "text/plain": [
       "test preparation course\n",
       "completed    74.175978\n",
       "none         66.417445\n",
       "Name: reading score, dtype: float64"
      ]
     },
     "execution_count": 13,
     "metadata": {},
     "output_type": "execute_result"
    }
   ],
   "source": [
    "s.groupby('test preparation course')['reading score'].mean()"
   ]
  },
  {
   "cell_type": "markdown",
   "id": "e345374c",
   "metadata": {},
   "source": [
    "# Insights\n",
    "* The students who prepared with test preparation course have more average in all three exams than students not participated in test preparation course."
   ]
  },
  {
   "cell_type": "markdown",
   "id": "231ffdea",
   "metadata": {},
   "source": [
    "# 4. What do you think about the scoring variation for math, reading and writing based on"
   ]
  },
  {
   "cell_type": "code",
   "execution_count": 20,
   "id": "ac816114",
   "metadata": {},
   "outputs": [
    {
     "data": {
      "text/plain": [
       "math score       242.411410\n",
       "reading score    216.279254\n",
       "writing score    231.842682\n",
       "dtype: float64"
      ]
     },
     "execution_count": 20,
     "metadata": {},
     "output_type": "execute_result"
    }
   ],
   "source": [
    "s.var()"
   ]
  },
  {
   "cell_type": "markdown",
   "id": "8ceda35f",
   "metadata": {},
   "source": [
    "# a) Gender"
   ]
  },
  {
   "cell_type": "code",
   "execution_count": 17,
   "id": "8bbaaa0c",
   "metadata": {},
   "outputs": [
    {
     "data": {
      "text/plain": [
       "gender\n",
       "female    256.958593\n",
       "male      211.889097\n",
       "Name: math score, dtype: float64"
      ]
     },
     "execution_count": 17,
     "metadata": {},
     "output_type": "execute_result"
    }
   ],
   "source": [
    "s.groupby('gender')['math score'].var()"
   ]
  },
  {
   "cell_type": "code",
   "execution_count": 18,
   "id": "a3ce3e06",
   "metadata": {},
   "outputs": [
    {
     "data": {
      "text/plain": [
       "gender\n",
       "female    207.677438\n",
       "male      200.211010\n",
       "Name: reading score, dtype: float64"
      ]
     },
     "execution_count": 18,
     "metadata": {},
     "output_type": "execute_result"
    }
   ],
   "source": [
    "s.groupby('gender')['reading score'].var()"
   ]
  },
  {
   "cell_type": "code",
   "execution_count": 87,
   "id": "0808cee6",
   "metadata": {},
   "outputs": [
    {
     "data": {
      "text/plain": [
       "gender\n",
       "female    220.369327\n",
       "male      202.413924\n",
       "Name: writing score, dtype: float64"
      ]
     },
     "execution_count": 87,
     "metadata": {},
     "output_type": "execute_result"
    }
   ],
   "source": [
    "s.groupby('gender')['writing score'].var()"
   ]
  },
  {
   "cell_type": "markdown",
   "id": "396dd94a",
   "metadata": {},
   "source": [
    "# Insights\n",
    "*Variance is more for females in all three cases that meeans extreme values or outliers are more in female students."
   ]
  },
  {
   "cell_type": "markdown",
   "id": "87ccb2e3",
   "metadata": {},
   "source": [
    "# b)Test preparation course"
   ]
  },
  {
   "cell_type": "code",
   "execution_count": 85,
   "id": "1a60b27f",
   "metadata": {
    "scrolled": true
   },
   "outputs": [
    {
     "data": {
      "text/plain": [
       "test preparation course\n",
       "completed    175.202612\n",
       "none         226.251739\n",
       "Name: writing score, dtype: float64"
      ]
     },
     "execution_count": 85,
     "metadata": {},
     "output_type": "execute_result"
    }
   ],
   "source": [
    "s.groupby('test preparation course')['writing score'].var()"
   ]
  },
  {
   "cell_type": "code",
   "execution_count": 82,
   "id": "5e987a76",
   "metadata": {},
   "outputs": [
    {
     "data": {
      "text/plain": [
       "test preparation course\n",
       "completed    210.884027\n",
       "none         246.668662\n",
       "Name: math score, dtype: float64"
      ]
     },
     "execution_count": 82,
     "metadata": {},
     "output_type": "execute_result"
    }
   ],
   "source": [
    "s.groupby('test preparation course')['math score'].var()"
   ]
  },
  {
   "cell_type": "code",
   "execution_count": 16,
   "id": "7a77a6ee",
   "metadata": {},
   "outputs": [
    {
     "data": {
      "text/plain": [
       "test preparation course\n",
       "completed    183.265864\n",
       "none         213.419851\n",
       "Name: reading score, dtype: float64"
      ]
     },
     "execution_count": 16,
     "metadata": {},
     "output_type": "execute_result"
    }
   ],
   "source": [
    "s.groupby('test preparation course')['reading score'].var()"
   ]
  },
  {
   "cell_type": "markdown",
   "id": "74bac41f",
   "metadata": {},
   "source": [
    "# Insights\n",
    "*The students particpated in test preparation course have less variance.\n",
    "\n",
    "*That means inorder secure average scores or above the students must complete their test preparation course"
   ]
  },
  {
   "cell_type": "code",
   "execution_count": 22,
   "id": "4bf5d17c",
   "metadata": {},
   "outputs": [
    {
     "data": {
      "text/plain": [
       "count    1000.000000\n",
       "mean       66.001000\n",
       "std        15.569567\n",
       "min         0.000000\n",
       "25%        57.000000\n",
       "50%        66.000000\n",
       "75%        77.000000\n",
       "max       100.000000\n",
       "Name: math score, dtype: float64"
      ]
     },
     "execution_count": 22,
     "metadata": {},
     "output_type": "execute_result"
    }
   ],
   "source": [
    "s['math score'].describe()"
   ]
  },
  {
   "cell_type": "markdown",
   "id": "92f2942d",
   "metadata": {},
   "source": [
    "# 5. The management needs your help to give bonus points to the top 25% of students based on their maths score, so how will you help the management to achieve this."
   ]
  },
  {
   "cell_type": "code",
   "execution_count": 101,
   "id": "aea12cd7",
   "metadata": {},
   "outputs": [
    {
     "name": "stdout",
     "output_type": "stream",
     "text": [
      "The list of top 25% students based on their math score:\n"
     ]
    },
    {
     "data": {
      "text/html": [
       "<div>\n",
       "<style scoped>\n",
       "    .dataframe tbody tr th:only-of-type {\n",
       "        vertical-align: middle;\n",
       "    }\n",
       "\n",
       "    .dataframe tbody tr th {\n",
       "        vertical-align: top;\n",
       "    }\n",
       "\n",
       "    .dataframe thead th {\n",
       "        text-align: right;\n",
       "    }\n",
       "</style>\n",
       "<table border=\"1\" class=\"dataframe\">\n",
       "  <thead>\n",
       "    <tr style=\"text-align: right;\">\n",
       "      <th></th>\n",
       "      <th>gender</th>\n",
       "      <th>math score</th>\n",
       "    </tr>\n",
       "  </thead>\n",
       "  <tbody>\n",
       "    <tr>\n",
       "      <th>515</th>\n",
       "      <td>female</td>\n",
       "      <td>100</td>\n",
       "    </tr>\n",
       "    <tr>\n",
       "      <th>516</th>\n",
       "      <td>female</td>\n",
       "      <td>100</td>\n",
       "    </tr>\n",
       "    <tr>\n",
       "      <th>517</th>\n",
       "      <td>female</td>\n",
       "      <td>100</td>\n",
       "    </tr>\n",
       "    <tr>\n",
       "      <th>996</th>\n",
       "      <td>male</td>\n",
       "      <td>100</td>\n",
       "    </tr>\n",
       "    <tr>\n",
       "      <th>997</th>\n",
       "      <td>male</td>\n",
       "      <td>100</td>\n",
       "    </tr>\n",
       "    <tr>\n",
       "      <th>...</th>\n",
       "      <td>...</td>\n",
       "      <td>...</td>\n",
       "    </tr>\n",
       "    <tr>\n",
       "      <th>428</th>\n",
       "      <td>female</td>\n",
       "      <td>77</td>\n",
       "    </tr>\n",
       "    <tr>\n",
       "      <th>429</th>\n",
       "      <td>female</td>\n",
       "      <td>77</td>\n",
       "    </tr>\n",
       "    <tr>\n",
       "      <th>849</th>\n",
       "      <td>male</td>\n",
       "      <td>77</td>\n",
       "    </tr>\n",
       "    <tr>\n",
       "      <th>850</th>\n",
       "      <td>male</td>\n",
       "      <td>77</td>\n",
       "    </tr>\n",
       "    <tr>\n",
       "      <th>851</th>\n",
       "      <td>male</td>\n",
       "      <td>77</td>\n",
       "    </tr>\n",
       "  </tbody>\n",
       "</table>\n",
       "<p>250 rows × 2 columns</p>\n",
       "</div>"
      ],
      "text/plain": [
       "     gender  math score\n",
       "515  female         100\n",
       "516  female         100\n",
       "517  female         100\n",
       "996    male         100\n",
       "997    male         100\n",
       "..      ...         ...\n",
       "428  female          77\n",
       "429  female          77\n",
       "849    male          77\n",
       "850    male          77\n",
       "851    male          77\n",
       "\n",
       "[250 rows x 2 columns]"
      ]
     },
     "execution_count": 101,
     "metadata": {},
     "output_type": "execute_result"
    }
   ],
   "source": [
    "t=s.nlargest(250,'math score')\n",
    "print('The list of top 25% students based on their math score:')\n",
    "t[['gender','math score']]\n"
   ]
  },
  {
   "cell_type": "code",
   "execution_count": null,
   "id": "d6d06bcb",
   "metadata": {},
   "outputs": [],
   "source": []
  },
  {
   "cell_type": "code",
   "execution_count": null,
   "id": "2631e202",
   "metadata": {},
   "outputs": [],
   "source": []
  }
 ],
 "metadata": {
  "kernelspec": {
   "display_name": "Python 3",
   "language": "python",
   "name": "python3"
  },
  "language_info": {
   "codemirror_mode": {
    "name": "ipython",
    "version": 3
   },
   "file_extension": ".py",
   "mimetype": "text/x-python",
   "name": "python",
   "nbconvert_exporter": "python",
   "pygments_lexer": "ipython3",
   "version": "3.8.8"
  }
 },
 "nbformat": 4,
 "nbformat_minor": 5
}
